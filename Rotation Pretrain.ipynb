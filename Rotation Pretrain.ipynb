{
 "cells": [
  {
   "cell_type": "code",
   "execution_count": 1,
   "id": "e9b1d81c",
   "metadata": {},
   "outputs": [],
   "source": [
    "import os\n",
    "import json\n",
    "import wandb\n",
    "import torch\n",
    "import numpy as np\n",
    "\n",
    "\n",
    "from torch import nn\n",
    "from torch.nn import functional as F\n",
    "from torch import optim\n",
    "from torch.utils.data import DataLoader, Dataset\n",
    "\n",
    "from torchvision import models\n",
    "from torchvision import transforms\n",
    "\n",
    "from matplotlib import pyplot as plt\n",
    "from tqdm.notebook import trange\n",
    "\n",
    "\n",
    "from dataset import LabeledDataset, UnlabeledDataset\n",
    "\n",
    "device = 'cuda' if torch.cuda.is_available else 'cpu'"
   ]
  },
  {
   "cell_type": "code",
   "execution_count": 2,
   "id": "f9926953",
   "metadata": {},
   "outputs": [],
   "source": [
    "normalization = transforms.Normalize([132., 126.4, 105.3], [67.8, 66.4, 70.5])"
   ]
  },
  {
   "cell_type": "code",
   "execution_count": 3,
   "id": "f94125f7",
   "metadata": {},
   "outputs": [],
   "source": [
    "unldat = UnlabeledDataset('./data/', transform=normalization)\n",
    "pretrain_loader = DataLoader(unldat, batch_size=10, shuffle=True, drop_last=True)\n",
    "\n",
    "labdat = LabeledDataset('./data/train/labeled/', transform=normalization)\n",
    "train_loader = DataLoader(labdat, batch_size=10, shuffle=True, drop_last=True)"
   ]
  },
  {
   "cell_type": "code",
   "execution_count": 4,
   "id": "e7199312",
   "metadata": {},
   "outputs": [],
   "source": [
    "model = models.resnet18(num_classes=10)"
   ]
  },
  {
   "cell_type": "code",
   "execution_count": 5,
   "id": "5fca45b6",
   "metadata": {},
   "outputs": [],
   "source": [
    "def forward_cut(X, model, level=-2):\n",
    "    chs = list(model.children())[:level]\n",
    "    res = X\n",
    "    for ch in chs:\n",
    "        X = res\n",
    "        res = ch(X)\n",
    "    return res"
   ]
  },
  {
   "cell_type": "code",
   "execution_count": 6,
   "id": "18c2acb8",
   "metadata": {},
   "outputs": [
    {
     "name": "stderr",
     "output_type": "stream",
     "text": [
      "Failed to detect the name of this notebook, you can set it manually with the WANDB_NOTEBOOK_NAME environment variable to enable code saving.\n",
      "\u001b[34m\u001b[1mwandb\u001b[0m: Currently logged in as: \u001b[33mvsevolodpl\u001b[0m. Use \u001b[1m`wandb login --relogin`\u001b[0m to force relogin\n"
     ]
    },
    {
     "data": {
      "text/html": [
       "wandb version 0.13.9 is available!  To upgrade, please run:\n",
       " $ pip install wandb --upgrade"
      ],
      "text/plain": [
       "<IPython.core.display.HTML object>"
      ]
     },
     "metadata": {},
     "output_type": "display_data"
    },
    {
     "data": {
      "text/html": [
       "Tracking run with wandb version 0.13.4"
      ],
      "text/plain": [
       "<IPython.core.display.HTML object>"
      ]
     },
     "metadata": {},
     "output_type": "display_data"
    },
    {
     "data": {
      "text/html": [
       "Run data is saved locally in <code>C:\\Users\\vsevo\\Desktop\\vuz\\SSL\\HW1\\wandb\\run-20230201_165634-2se8qzpk</code>"
      ],
      "text/plain": [
       "<IPython.core.display.HTML object>"
      ]
     },
     "metadata": {},
     "output_type": "display_data"
    },
    {
     "data": {
      "text/html": [
       "Syncing run <strong><a href=\"https://wandb.ai/vsevolodpl/Pretrain%20HW1/runs/2se8qzpk\" target=\"_blank\">rotation-pretrain:6</a></strong> to <a href=\"https://wandb.ai/vsevolodpl/Pretrain%20HW1\" target=\"_blank\">Weights & Biases</a> (<a href=\"https://wandb.me/run\" target=\"_blank\">docs</a>)<br/>"
      ],
      "text/plain": [
       "<IPython.core.display.HTML object>"
      ]
     },
     "metadata": {},
     "output_type": "display_data"
    },
    {
     "data": {
      "text/html": [
       "<button onClick=\"this.nextSibling.style.display='block';this.style.display='none';\">Display W&B run</button><iframe src=\"https://wandb.ai/vsevolodpl/Pretrain%20HW1/runs/2se8qzpk?jupyter=true\" style=\"border:none;width:100%;height:420px;display:none;\"></iframe>"
      ],
      "text/plain": [
       "<wandb.sdk.wandb_run.Run at 0x1a68024db50>"
      ]
     },
     "execution_count": 6,
     "metadata": {},
     "output_type": "execute_result"
    }
   ],
   "source": [
    "with open('versions.json', 'r') as f:\n",
    "    versions = json.load(f)\n",
    "versions['rotation-pretrain'] += 1\n",
    "cur_ver = versions['rotation-pretrain']\n",
    "with open('versions.json', 'w') as f:\n",
    "    json.dump(versions, f)\n",
    "    \n",
    "wandb.init(project='Pretrain HW1', name=f'rotation-pretrain:{cur_ver}', notes='full dataset')"
   ]
  },
  {
   "cell_type": "code",
   "execution_count": null,
   "id": "c461aa02",
   "metadata": {},
   "outputs": [],
   "source": [
    "classifier = nn.Sequential(\n",
    "    nn.Linear(in_features=512, out_features=4, bias=True),\n",
    ")"
   ]
  },
  {
   "cell_type": "code",
   "execution_count": null,
   "id": "a46f11b7",
   "metadata": {},
   "outputs": [],
   "source": [
    "model.to(device)\n",
    "classifier.to(device)\n",
    "\n",
    "opt = optim.Adam([*list(model.parameters()), *list(classifier.parameters())])"
   ]
  },
  {
   "cell_type": "code",
   "execution_count": null,
   "id": "b5f50763",
   "metadata": {},
   "outputs": [],
   "source": [
    "X = next(iter(pretrain_loader))\n",
    "X.shape"
   ]
  },
  {
   "cell_type": "code",
   "execution_count": null,
   "id": "846e8aad",
   "metadata": {
    "scrolled": true
   },
   "outputs": [],
   "source": [
    "with torch.no_grad():\n",
    "    print(forward_cut(X.to(device), model, level=-1).shape)"
   ]
  },
  {
   "cell_type": "code",
   "execution_count": null,
   "id": "df82341d",
   "metadata": {},
   "outputs": [],
   "source": [
    "epochs = 200"
   ]
  },
  {
   "cell_type": "code",
   "execution_count": null,
   "id": "c56e76e2",
   "metadata": {},
   "outputs": [],
   "source": [
    "for epoch in trange(epochs):\n",
    "    opt.param_groups[0]['lr'] *= 0.97\n",
    "    for X in pretrain_loader:\n",
    "        opt.zero_grad()\n",
    "        X = X.to(device)\n",
    "        rots = torch.randint(0, 4, (len(X),), device=device)\n",
    "        for i in range(len(X)):\n",
    "            X[i] = torch.rot90(X[i], rots[i], [1,2])\n",
    "        \n",
    "        hid = forward_cut(X, model, -1)\n",
    "        hid.squeeze_(-1)\n",
    "        hid.squeeze_(-1)\n",
    "        pred = classifier(hid)\n",
    "        \n",
    "        loss = F.cross_entropy(pred, rots)\n",
    "        \n",
    "        loss.backward()\n",
    "        opt.step()\n",
    "        \n",
    "        wandb.log({'loss':loss.item()})\n",
    "    wandb.log({'lr':opt.param_groups[0]['lr']})"
   ]
  },
  {
   "cell_type": "code",
   "execution_count": null,
   "id": "2e9b1f05",
   "metadata": {},
   "outputs": [],
   "source": [
    "model = model.train(True)"
   ]
  },
  {
   "cell_type": "code",
   "execution_count": null,
   "id": "8f5ff520",
   "metadata": {},
   "outputs": [],
   "source": [
    "#model.to(device)\n",
    "\n",
    "final_opt = optim.Adam(model.parameters(), lr=5e-3)"
   ]
  },
  {
   "cell_type": "code",
   "execution_count": null,
   "id": "a009c0f4",
   "metadata": {},
   "outputs": [],
   "source": [
    "for epoch in trange(50):\n",
    "    final_opt.param_groups[0]['lr'] *= 0.96\n",
    "    for X, y in train_loader:\n",
    "        final_opt.zero_grad()\n",
    "        X = X.to(device)\n",
    "        y = y.to(device)\n",
    "        \n",
    "        pred = model(X)\n",
    "        \n",
    "        loss = F.cross_entropy(pred, y)\n",
    "        \n",
    "        loss.backward()\n",
    "        final_opt.step()\n",
    "        \n",
    "        wandb.log({'final loss':loss.item()})\n",
    "    wandb.log({'final lr':final_opt.param_groups[0]['lr']})"
   ]
  },
  {
   "cell_type": "code",
   "execution_count": null,
   "id": "0cf7251d",
   "metadata": {},
   "outputs": [],
   "source": [
    "model = model.train(False)"
   ]
  },
  {
   "cell_type": "code",
   "execution_count": null,
   "id": "c028fcc3",
   "metadata": {},
   "outputs": [],
   "source": [
    "infer_path, _, infer_files = next(os.walk('./data/test/'))\n",
    "\n",
    "ans = []\n",
    "classes_stat = []\n",
    "for file in infer_files:\n",
    "    filename = infer_path+'/'+file\n",
    "    img = torch.tensor(plt.imread(filename), dtype=torch.float32)\n",
    "    img = img.transpose_(0,2).unsqueeze(0)\n",
    "\n",
    "    img = normalization(img)\n",
    "    with torch.no_grad():\n",
    "        class_idx = model(img.to(device)).argmax()\n",
    "    classes_stat.append(class_idx.item())\n",
    "    ans.append((file, labdat.classes[class_idx.item()]))"
   ]
  },
  {
   "cell_type": "code",
   "execution_count": null,
   "id": "a9dd5131",
   "metadata": {},
   "outputs": [],
   "source": [
    "plt.hist(classes_stat, bins=10);"
   ]
  },
  {
   "cell_type": "code",
   "execution_count": null,
   "id": "230be0d0",
   "metadata": {},
   "outputs": [],
   "source": [
    "with open('./result_rotation-pretrain.csv', 'w') as f:\n",
    "    print('id,class', file=f)\n",
    "    for file, classn in ans:\n",
    "        print(f'{file},{classn}', file=f)"
   ]
  },
  {
   "cell_type": "code",
   "execution_count": null,
   "id": "8c1426e0",
   "metadata": {},
   "outputs": [],
   "source": [
    "labdat.classes"
   ]
  }
 ],
 "metadata": {
  "kernelspec": {
   "display_name": "Python 3 (ipykernel)",
   "language": "python",
   "name": "python3"
  },
  "language_info": {
   "codemirror_mode": {
    "name": "ipython",
    "version": 3
   },
   "file_extension": ".py",
   "mimetype": "text/x-python",
   "name": "python",
   "nbconvert_exporter": "python",
   "pygments_lexer": "ipython3",
   "version": "3.9.5"
  }
 },
 "nbformat": 4,
 "nbformat_minor": 5
}
