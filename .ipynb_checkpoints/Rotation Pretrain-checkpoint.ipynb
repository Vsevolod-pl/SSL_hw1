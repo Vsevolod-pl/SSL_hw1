{
 "cells": [
  {
   "cell_type": "code",
   "execution_count": 1,
   "id": "e9b1d81c",
   "metadata": {},
   "outputs": [],
   "source": [
    "import os\n",
    "import json\n",
    "import wandb\n",
    "import torch\n",
    "import numpy as np\n",
    "\n",
    "\n",
    "from torch import nn\n",
    "from torch.nn import functional as F\n",
    "from torch import optim\n",
    "from torch.utils.data import DataLoader, Dataset\n",
    "\n",
    "from torchvision import models\n",
    "from torchvision import transforms\n",
    "\n",
    "from matplotlib import pyplot as plt\n",
    "from tqdm.notebook import trange\n",
    "\n",
    "device = 'cuda' if torch.cuda.is_available else 'cpu'"
   ]
  },
  {
   "cell_type": "code",
   "execution_count": 2,
   "id": "bccc3168",
   "metadata": {},
   "outputs": [],
   "source": [
    "class LabeledDataset(Dataset):\n",
    "    def __init__(self, path2data='./data/train/labeled/', transform=None):\n",
    "        self.transform = transform\n",
    "        self.path = path2data\n",
    "        walker = os.walk(path2data)\n",
    "        _, classes, _ = next(walker)\n",
    "        classes = sorted(classes)\n",
    "        self.classes = classes\n",
    "        self.files = []\n",
    "        self.class2ind = {classes[i]:i for i in range(len(classes))}\n",
    "        \n",
    "        for path, folders, files in walker:\n",
    "            for file in files:\n",
    "                self.files.append(f'{path}/{file}')\n",
    "        \n",
    "        self.length_dataset = len(self.files)\n",
    "        \n",
    "    def __len__(self):\n",
    "        return self.length_dataset\n",
    "\n",
    "    def __getitem__(self, idx):\n",
    "        filename = self.files[idx]\n",
    "        classname = filename.split('/')[-2]\n",
    "        class_idx = self.class2ind[classname]\n",
    "        \n",
    "        img = torch.tensor(plt.imread(filename), dtype=torch.float32)\n",
    "        img = img.transpose_(0,2)\n",
    "        \n",
    "        if self.transform is not None:\n",
    "            img = self.transform(img)\n",
    "        \n",
    "        return img, class_idx"
   ]
  },
  {
   "cell_type": "code",
   "execution_count": 3,
   "id": "1cd22817",
   "metadata": {},
   "outputs": [],
   "source": [
    "class UnlabeledDataset:\n",
    "    def __init__(self, path2data='./data/train/unlabeled/', transform=None):\n",
    "        self.transform = transform\n",
    "        self.path = path2data\n",
    "        self.files = []\n",
    "        for path, folders, files in os.walk(path2data):\n",
    "            for file in files:\n",
    "                self.files.append(f'{path}/{file}')\n",
    "                \n",
    "        _, _, self.files = next(walker)\n",
    "        self.length_dataset = len(self.files)\n",
    "        \n",
    "    def __len__(self):\n",
    "        return self.length_dataset\n",
    "\n",
    "    def __getitem__(self, idx):\n",
    "#         filename = self.path+'/'+self.files[idx]\n",
    "        img = torch.tensor(plt.imread(self.files[idx]), dtype=torch.float32)\n",
    "        img = img.transpose_(0,2)\n",
    "        \n",
    "        if self.transform is not None:\n",
    "            img = self.transform(img)\n",
    "        \n",
    "        return img"
   ]
  },
  {
   "cell_type": "code",
   "execution_count": 4,
   "id": "f9926953",
   "metadata": {},
   "outputs": [],
   "source": [
    "normalization = transforms.Normalize([132., 126.4, 105.3], [67.8, 66.4, 70.5])"
   ]
  },
  {
   "cell_type": "code",
   "execution_count": 5,
   "id": "6096ce7f",
   "metadata": {},
   "outputs": [
    {
     "ename": "ValueError",
     "evalue": "num_samples should be a positive integer value, but got num_samples=0",
     "output_type": "error",
     "traceback": [
      "\u001b[1;31m---------------------------------------------------------------------------\u001b[0m",
      "\u001b[1;31mValueError\u001b[0m                                Traceback (most recent call last)",
      "\u001b[1;32m~\\AppData\\Local\\Temp/ipykernel_4540/1880741555.py\u001b[0m in \u001b[0;36m<module>\u001b[1;34m\u001b[0m\n\u001b[0;32m      1\u001b[0m \u001b[0munldat\u001b[0m \u001b[1;33m=\u001b[0m \u001b[0mUnlabeledDataset\u001b[0m\u001b[1;33m(\u001b[0m\u001b[1;34m'./data/'\u001b[0m\u001b[1;33m,\u001b[0m \u001b[0mtransform\u001b[0m\u001b[1;33m=\u001b[0m\u001b[0mnormalization\u001b[0m\u001b[1;33m)\u001b[0m\u001b[1;33m\u001b[0m\u001b[1;33m\u001b[0m\u001b[0m\n\u001b[1;32m----> 2\u001b[1;33m \u001b[0mpretrain_loader\u001b[0m \u001b[1;33m=\u001b[0m \u001b[0mDataLoader\u001b[0m\u001b[1;33m(\u001b[0m\u001b[0munldat\u001b[0m\u001b[1;33m,\u001b[0m \u001b[0mbatch_size\u001b[0m\u001b[1;33m=\u001b[0m\u001b[1;36m10\u001b[0m\u001b[1;33m,\u001b[0m \u001b[0mshuffle\u001b[0m\u001b[1;33m=\u001b[0m\u001b[1;32mTrue\u001b[0m\u001b[1;33m,\u001b[0m \u001b[0mdrop_last\u001b[0m\u001b[1;33m=\u001b[0m\u001b[1;32mTrue\u001b[0m\u001b[1;33m)\u001b[0m\u001b[1;33m\u001b[0m\u001b[1;33m\u001b[0m\u001b[0m\n\u001b[0m",
      "\u001b[1;32mc:\\programdata\\miniconda3\\lib\\site-packages\\torch\\utils\\data\\dataloader.py\u001b[0m in \u001b[0;36m__init__\u001b[1;34m(self, dataset, batch_size, shuffle, sampler, batch_sampler, num_workers, collate_fn, pin_memory, drop_last, timeout, worker_init_fn, multiprocessing_context, generator, prefetch_factor, persistent_workers, pin_memory_device)\u001b[0m\n\u001b[0;32m    351\u001b[0m             \u001b[1;32melse\u001b[0m\u001b[1;33m:\u001b[0m  \u001b[1;31m# map-style\u001b[0m\u001b[1;33m\u001b[0m\u001b[1;33m\u001b[0m\u001b[0m\n\u001b[0;32m    352\u001b[0m                 \u001b[1;32mif\u001b[0m \u001b[0mshuffle\u001b[0m\u001b[1;33m:\u001b[0m\u001b[1;33m\u001b[0m\u001b[1;33m\u001b[0m\u001b[0m\n\u001b[1;32m--> 353\u001b[1;33m                     \u001b[0msampler\u001b[0m \u001b[1;33m=\u001b[0m \u001b[0mRandomSampler\u001b[0m\u001b[1;33m(\u001b[0m\u001b[0mdataset\u001b[0m\u001b[1;33m,\u001b[0m \u001b[0mgenerator\u001b[0m\u001b[1;33m=\u001b[0m\u001b[0mgenerator\u001b[0m\u001b[1;33m)\u001b[0m  \u001b[1;31m# type: ignore[arg-type]\u001b[0m\u001b[1;33m\u001b[0m\u001b[1;33m\u001b[0m\u001b[0m\n\u001b[0m\u001b[0;32m    354\u001b[0m                 \u001b[1;32melse\u001b[0m\u001b[1;33m:\u001b[0m\u001b[1;33m\u001b[0m\u001b[1;33m\u001b[0m\u001b[0m\n\u001b[0;32m    355\u001b[0m                     \u001b[0msampler\u001b[0m \u001b[1;33m=\u001b[0m \u001b[0mSequentialSampler\u001b[0m\u001b[1;33m(\u001b[0m\u001b[0mdataset\u001b[0m\u001b[1;33m)\u001b[0m  \u001b[1;31m# type: ignore[arg-type]\u001b[0m\u001b[1;33m\u001b[0m\u001b[1;33m\u001b[0m\u001b[0m\n",
      "\u001b[1;32mc:\\programdata\\miniconda3\\lib\\site-packages\\torch\\utils\\data\\sampler.py\u001b[0m in \u001b[0;36m__init__\u001b[1;34m(self, data_source, replacement, num_samples, generator)\u001b[0m\n\u001b[0;32m    105\u001b[0m \u001b[1;33m\u001b[0m\u001b[0m\n\u001b[0;32m    106\u001b[0m         \u001b[1;32mif\u001b[0m \u001b[1;32mnot\u001b[0m \u001b[0misinstance\u001b[0m\u001b[1;33m(\u001b[0m\u001b[0mself\u001b[0m\u001b[1;33m.\u001b[0m\u001b[0mnum_samples\u001b[0m\u001b[1;33m,\u001b[0m \u001b[0mint\u001b[0m\u001b[1;33m)\u001b[0m \u001b[1;32mor\u001b[0m \u001b[0mself\u001b[0m\u001b[1;33m.\u001b[0m\u001b[0mnum_samples\u001b[0m \u001b[1;33m<=\u001b[0m \u001b[1;36m0\u001b[0m\u001b[1;33m:\u001b[0m\u001b[1;33m\u001b[0m\u001b[1;33m\u001b[0m\u001b[0m\n\u001b[1;32m--> 107\u001b[1;33m             raise ValueError(\"num_samples should be a positive integer \"\n\u001b[0m\u001b[0;32m    108\u001b[0m                              \"value, but got num_samples={}\".format(self.num_samples))\n\u001b[0;32m    109\u001b[0m \u001b[1;33m\u001b[0m\u001b[0m\n",
      "\u001b[1;31mValueError\u001b[0m: num_samples should be a positive integer value, but got num_samples=0"
     ]
    }
   ],
   "source": [
    "unldat = UnlabeledDataset('./data/', transform=normalization)\n",
    "pretrain_loader = DataLoader(unldat, batch_size=10, shuffle=True, drop_last=True)"
   ]
  },
  {
   "cell_type": "code",
   "execution_count": 7,
   "id": "a075f762",
   "metadata": {},
   "outputs": [
    {
     "data": {
      "text/plain": [
       "0"
      ]
     },
     "execution_count": 7,
     "metadata": {},
     "output_type": "execute_result"
    }
   ],
   "source": [
    "len(unldat)"
   ]
  },
  {
   "cell_type": "code",
   "execution_count": null,
   "id": "f94125f7",
   "metadata": {},
   "outputs": [],
   "source": [
    "unldat = UnlabeledDataset('./data/train/unlabeled/', transform=normalization)\n",
    "pretrain_loader = DataLoader(unldat, batch_size=10, shuffle=True, drop_last=True)\n",
    "\n",
    "labdat = LabeledDataset('./data/train/labeled/', transform=normalization)\n",
    "train_loader = DataLoader(labdat, batch_size=10, shuffle=True, drop_last=True)"
   ]
  },
  {
   "cell_type": "code",
   "execution_count": null,
   "id": "e7199312",
   "metadata": {},
   "outputs": [],
   "source": [
    "model = models.resnet18(num_classes=10)"
   ]
  },
  {
   "cell_type": "code",
   "execution_count": null,
   "id": "5fca45b6",
   "metadata": {},
   "outputs": [],
   "source": [
    "def forward_cut(X, model, level=-2):\n",
    "    chs = list(model.children())[:level]\n",
    "    res = X\n",
    "    for ch in chs:\n",
    "        X = res\n",
    "        res = ch(X)\n",
    "    return res"
   ]
  },
  {
   "cell_type": "code",
   "execution_count": null,
   "id": "18c2acb8",
   "metadata": {},
   "outputs": [],
   "source": [
    "with open('versions.json', 'r') as f:\n",
    "    versions = json.load(f)\n",
    "versions['rotation-pretrain'] += 1\n",
    "cur_ver = versions['rotation-pretrain']\n",
    "with open('versions.json', 'w') as f:\n",
    "    json.dump(versions, f)\n",
    "    \n",
    "wandb.init(project='Pretrain HW1', name=f'rotation-pretrain:{cur_ver}')"
   ]
  },
  {
   "cell_type": "code",
   "execution_count": null,
   "id": "c461aa02",
   "metadata": {},
   "outputs": [],
   "source": [
    "classifier = nn.Sequential(\n",
    "    nn.Linear(in_features=512, out_features=4, bias=True),\n",
    ")"
   ]
  },
  {
   "cell_type": "code",
   "execution_count": null,
   "id": "a46f11b7",
   "metadata": {},
   "outputs": [],
   "source": [
    "model.to(device)\n",
    "classifier.to(device)\n",
    "\n",
    "opt = optim.Adam([*list(model.parameters()), *list(classifier.parameters())])"
   ]
  },
  {
   "cell_type": "code",
   "execution_count": null,
   "id": "b5f50763",
   "metadata": {},
   "outputs": [],
   "source": [
    "X = next(iter(pretrain_loader))\n",
    "X.shape"
   ]
  },
  {
   "cell_type": "code",
   "execution_count": null,
   "id": "846e8aad",
   "metadata": {
    "scrolled": true
   },
   "outputs": [],
   "source": [
    "with torch.no_grad():\n",
    "    print(forward_cut(X.to(device), model, level=-1).shape)"
   ]
  },
  {
   "cell_type": "code",
   "execution_count": null,
   "id": "df82341d",
   "metadata": {},
   "outputs": [],
   "source": [
    "epochs = 100"
   ]
  },
  {
   "cell_type": "code",
   "execution_count": null,
   "id": "c56e76e2",
   "metadata": {},
   "outputs": [],
   "source": [
    "for epoch in trange(epochs):\n",
    "    opt.param_groups[0]['lr'] *= 0.98\n",
    "    for X in pretrain_loader:\n",
    "        opt.zero_grad()\n",
    "        X = X.to(device)\n",
    "        rots = torch.randint(0, 4, (len(X),), device=device)\n",
    "        for i in range(len(X)):\n",
    "            X[i] = torch.rot90(X[i], rots[i], [1,2])\n",
    "        \n",
    "        hid = forward_cut(X, model, -1)\n",
    "        hid.squeeze_(-1)\n",
    "        hid.squeeze_(-1)\n",
    "        pred = classifier(hid)\n",
    "        \n",
    "        loss = F.cross_entropy(pred, rots)\n",
    "        \n",
    "        loss.backward()\n",
    "        opt.step()\n",
    "        \n",
    "        wandb.log({'loss':loss.item()})\n",
    "    wandb.log({'lr':opt.param_groups[0]['lr']})"
   ]
  },
  {
   "cell_type": "code",
   "execution_count": null,
   "id": "2e9b1f05",
   "metadata": {},
   "outputs": [],
   "source": [
    "model = model.train(True)"
   ]
  },
  {
   "cell_type": "code",
   "execution_count": null,
   "id": "8f5ff520",
   "metadata": {},
   "outputs": [],
   "source": [
    "#model.to(device)\n",
    "\n",
    "final_opt = optim.Adam(model.parameters(), lr=5e-3)"
   ]
  },
  {
   "cell_type": "code",
   "execution_count": null,
   "id": "a009c0f4",
   "metadata": {},
   "outputs": [],
   "source": [
    "for epoch in trange(50):\n",
    "    final_opt.param_groups[0]['lr'] *= 0.96\n",
    "    for X, y in train_loader:\n",
    "        final_opt.zero_grad()\n",
    "        X = X.to(device)\n",
    "        y = y.to(device)\n",
    "        \n",
    "        pred = model(X)\n",
    "        \n",
    "        loss = F.cross_entropy(pred, y)\n",
    "        \n",
    "        loss.backward()\n",
    "        final_opt.step()\n",
    "        \n",
    "        wandb.log({'final loss':loss.item()})\n",
    "    wandb.log({'final lr':final_opt.param_groups[0]['lr']})"
   ]
  },
  {
   "cell_type": "code",
   "execution_count": null,
   "id": "0cf7251d",
   "metadata": {},
   "outputs": [],
   "source": [
    "model = model.train(False)"
   ]
  },
  {
   "cell_type": "code",
   "execution_count": null,
   "id": "c028fcc3",
   "metadata": {},
   "outputs": [],
   "source": [
    "infer_path, _, infer_files = next(os.walk('./data/test/'))\n",
    "\n",
    "ans = []\n",
    "classes_stat = []\n",
    "for file in infer_files:\n",
    "    filename = infer_path+'/'+file\n",
    "    img = torch.tensor(plt.imread(filename), dtype=torch.float32)\n",
    "    img = img.transpose_(0,2).unsqueeze(0)\n",
    "\n",
    "    img = normalization(img)\n",
    "    with torch.no_grad():\n",
    "        class_idx = model(img.to(device)).argmax()\n",
    "    classes_stat.append(class_idx.item())\n",
    "    ans.append((file, labdat.classes[class_idx.item()]))"
   ]
  },
  {
   "cell_type": "code",
   "execution_count": null,
   "id": "a9dd5131",
   "metadata": {},
   "outputs": [],
   "source": [
    "plt.hist(classes_stat, bins=10);"
   ]
  },
  {
   "cell_type": "code",
   "execution_count": null,
   "id": "230be0d0",
   "metadata": {},
   "outputs": [],
   "source": [
    "with open('./result_rotation-pretrain.csv', 'w') as f:\n",
    "    print('id,class', file=f)\n",
    "    for file, classn in ans:\n",
    "        print(f'{file},{classn}', file=f)"
   ]
  },
  {
   "cell_type": "code",
   "execution_count": null,
   "id": "8c1426e0",
   "metadata": {},
   "outputs": [],
   "source": [
    "labdat.classes"
   ]
  }
 ],
 "metadata": {
  "kernelspec": {
   "display_name": "Python 3 (ipykernel)",
   "language": "python",
   "name": "python3"
  },
  "language_info": {
   "codemirror_mode": {
    "name": "ipython",
    "version": 3
   },
   "file_extension": ".py",
   "mimetype": "text/x-python",
   "name": "python",
   "nbconvert_exporter": "python",
   "pygments_lexer": "ipython3",
   "version": "3.9.5"
  }
 },
 "nbformat": 4,
 "nbformat_minor": 5
}
