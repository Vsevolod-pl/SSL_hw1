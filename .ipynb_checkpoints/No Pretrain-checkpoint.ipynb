{
 "cells": [
  {
   "cell_type": "code",
   "execution_count": 4,
   "id": "e9b1d81c",
   "metadata": {},
   "outputs": [],
   "source": [
    "import os\n",
    "import json\n",
    "import wandb\n",
    "import torch\n",
    "import numpy as np\n",
    "\n",
    "\n",
    "from torch import nn\n",
    "from torch.nn import functional as F\n",
    "from torch import optim\n",
    "from torch.utils.data import DataLoader, Dataset\n",
    "\n",
    "from torchvision import models\n",
    "from torchvision import transforms\n",
    "\n",
    "from matplotlib import pyplot as plt\n",
    "from tqdm.notebook import trange\n",
    "\n",
    "device = 'cuda' if torch.cuda.is_available else 'cpu'"
   ]
  },
  {
   "cell_type": "code",
   "execution_count": 5,
   "id": "bccc3168",
   "metadata": {},
   "outputs": [],
   "source": [
    "class LabeledDataset(Dataset):\n",
    "    def __init__(self, path2data='./data/train/labeled/', transform=None):\n",
    "        self.transform = transform\n",
    "        self.path = path2data\n",
    "        walker = os.walk(path2data)\n",
    "        _, classes, _ = next(walker)\n",
    "        classes = sorted(classes)\n",
    "        self.classes = classes\n",
    "        self.files = []\n",
    "        self.class2ind = {classes[i]:i for i in range(len(classes))}\n",
    "        \n",
    "        for path, folders, files in walker:\n",
    "            for file in files:\n",
    "                self.files.append(f'{path}/{file}')\n",
    "        \n",
    "        self.length_dataset = len(self.files)\n",
    "        \n",
    "    def __len__(self):\n",
    "        return self.length_dataset\n",
    "\n",
    "    def __getitem__(self, idx):\n",
    "        filename = self.files[idx]\n",
    "        classname = filename.split('/')[-2]\n",
    "        class_idx = self.class2ind[classname]\n",
    "        \n",
    "        img = torch.tensor(plt.imread(filename), dtype=torch.float32)\n",
    "        img = img.transpose_(0,2)\n",
    "        \n",
    "        if self.transform is not None:\n",
    "            img = self.transform(img)\n",
    "        \n",
    "        return img, class_idx"
   ]
  },
  {
   "cell_type": "code",
   "execution_count": 6,
   "id": "58d9f4d6",
   "metadata": {},
   "outputs": [],
   "source": [
    "class UnlabeledDataset:\n",
    "    def __init__(self, path2data='./data/train/unlabeled/', transform=None):\n",
    "        self.transform = transform\n",
    "        self.path = path2data\n",
    "        walker = os.walk(path2data)\n",
    "        _, _, self.files = next(walker)\n",
    "        self.length_dataset = len(self.files)\n",
    "        \n",
    "    def __len__(self):\n",
    "        return self.length_dataset\n",
    "\n",
    "    def __getitem__(self, idx):\n",
    "        filename = self.path+'/'+self.files[idx]\n",
    "        img = torch.tensor(plt.imread(filename), dtype=torch.float32)\n",
    "        img = img.transpose_(0,2)\n",
    "        \n",
    "        if self.transform is not None:\n",
    "            img = self.transform(img)\n",
    "        \n",
    "        return img"
   ]
  },
  {
   "cell_type": "code",
   "execution_count": 7,
   "id": "f9926953",
   "metadata": {},
   "outputs": [],
   "source": [
    "normalization = transforms.Normalize([132., 126.4, 105.3], [67.8, 66.4, 70.5])"
   ]
  },
  {
   "cell_type": "code",
   "execution_count": 8,
   "id": "f94125f7",
   "metadata": {},
   "outputs": [],
   "source": [
    "labdat = LabeledDataset('./data/train/labeled/', transform=normalization)\n",
    "train_loader = DataLoader(labdat, batch_size=10, shuffle=True, drop_last=True)\n",
    "\n",
    "# eval_dat = UnlabeledDataset('./data/test/', transform=normalization)\n",
    "# eval_loader = DataLoader(labdat, batch_size=10, shuffle=True, drop_last=True)"
   ]
  },
  {
   "cell_type": "code",
   "execution_count": 9,
   "id": "e7199312",
   "metadata": {},
   "outputs": [],
   "source": [
    "model = models.resnet18(num_classes=10)"
   ]
  },
  {
   "cell_type": "code",
   "execution_count": 10,
   "id": "18c2acb8",
   "metadata": {},
   "outputs": [
    {
     "name": "stderr",
     "output_type": "stream",
     "text": [
      "Failed to detect the name of this notebook, you can set it manually with the WANDB_NOTEBOOK_NAME environment variable to enable code saving.\n",
      "\u001b[34m\u001b[1mwandb\u001b[0m: Currently logged in as: \u001b[33mvsevolodpl\u001b[0m. Use \u001b[1m`wandb login --relogin`\u001b[0m to force relogin\n"
     ]
    },
    {
     "data": {
      "text/html": [
       "wandb version 0.13.9 is available!  To upgrade, please run:\n",
       " $ pip install wandb --upgrade"
      ],
      "text/plain": [
       "<IPython.core.display.HTML object>"
      ]
     },
     "metadata": {},
     "output_type": "display_data"
    },
    {
     "data": {
      "text/html": [
       "Tracking run with wandb version 0.13.4"
      ],
      "text/plain": [
       "<IPython.core.display.HTML object>"
      ]
     },
     "metadata": {},
     "output_type": "display_data"
    },
    {
     "data": {
      "text/html": [
       "Run data is saved locally in <code>C:\\Users\\vsevo\\Desktop\\vuz\\SSL\\wandb\\run-20230131_130214-15il1ls3</code>"
      ],
      "text/plain": [
       "<IPython.core.display.HTML object>"
      ]
     },
     "metadata": {},
     "output_type": "display_data"
    },
    {
     "data": {
      "text/html": [
       "Syncing run <strong><a href=\"https://wandb.ai/vsevolodpl/Pretrain%20HW1/runs/15il1ls3\" target=\"_blank\">no-pretrain:2</a></strong> to <a href=\"https://wandb.ai/vsevolodpl/Pretrain%20HW1\" target=\"_blank\">Weights & Biases</a> (<a href=\"https://wandb.me/run\" target=\"_blank\">docs</a>)<br/>"
      ],
      "text/plain": [
       "<IPython.core.display.HTML object>"
      ]
     },
     "metadata": {},
     "output_type": "display_data"
    },
    {
     "data": {
      "text/html": [
       "<button onClick=\"this.nextSibling.style.display='block';this.style.display='none';\">Display W&B run</button><iframe src=\"https://wandb.ai/vsevolodpl/Pretrain%20HW1/runs/15il1ls3?jupyter=true\" style=\"border:none;width:100%;height:420px;display:none;\"></iframe>"
      ],
      "text/plain": [
       "<wandb.sdk.wandb_run.Run at 0x1850bc7e880>"
      ]
     },
     "execution_count": 10,
     "metadata": {},
     "output_type": "execute_result"
    }
   ],
   "source": [
    "with open('versions.json', 'r') as f:\n",
    "    versions = json.load(f)\n",
    "versions['no-pretrain'] += 1\n",
    "cur_ver = versions['no-pretrain']\n",
    "with open('versions.json', 'w') as f:\n",
    "    json.dump(versions, f)\n",
    "    \n",
    "wandb.init(project='Pretrain HW1', name=f'no-pretrain:{cur_ver}')"
   ]
  },
  {
   "cell_type": "code",
   "execution_count": 11,
   "id": "a46f11b7",
   "metadata": {},
   "outputs": [],
   "source": [
    "model.to(device)\n",
    "\n",
    "opt = optim.Adam(model.parameters(), lr=5e-3)"
   ]
  },
  {
   "cell_type": "code",
   "execution_count": 12,
   "id": "2e9b1f05",
   "metadata": {},
   "outputs": [],
   "source": [
    "model = model.train(True)"
   ]
  },
  {
   "cell_type": "code",
   "execution_count": 13,
   "id": "8f5ff520",
   "metadata": {},
   "outputs": [
    {
     "data": {
      "text/plain": [
       "0.005"
      ]
     },
     "execution_count": 13,
     "metadata": {},
     "output_type": "execute_result"
    }
   ],
   "source": [
    "opt.param_groups[0]['lr']"
   ]
  },
  {
   "cell_type": "code",
   "execution_count": 15,
   "id": "a009c0f4",
   "metadata": {},
   "outputs": [
    {
     "data": {
      "application/vnd.jupyter.widget-view+json": {
       "model_id": "fd2ffb5e18b64da5bdb43410085a4a9d",
       "version_major": 2,
       "version_minor": 0
      },
      "text/plain": [
       "  0%|          | 0/50 [00:00<?, ?it/s]"
      ]
     },
     "metadata": {},
     "output_type": "display_data"
    }
   ],
   "source": [
    "for epoch in trange(50):\n",
    "    opt.param_groups[0]['lr'] *= 0.96\n",
    "    for X, y in train_loader:\n",
    "        opt.zero_grad()\n",
    "        X = X.to(device)\n",
    "        y = y.to(device)\n",
    "        \n",
    "        pred = model(X)\n",
    "        \n",
    "        loss = F.cross_entropy(pred, y)\n",
    "        \n",
    "        loss.backward()\n",
    "        opt.step()\n",
    "        \n",
    "        wandb.log({'final loss':loss.item()})\n",
    "    wandb.log({'final lr':opt.param_groups[0]['lr']})"
   ]
  },
  {
   "cell_type": "code",
   "execution_count": 16,
   "id": "0cf7251d",
   "metadata": {},
   "outputs": [],
   "source": [
    "model = model.train(False)\n",
    "model = model.eval()"
   ]
  },
  {
   "cell_type": "code",
   "execution_count": 17,
   "id": "8c409ff5",
   "metadata": {},
   "outputs": [],
   "source": [
    "infer_path, _, infer_files = next(os.walk('./data/test/'))"
   ]
  },
  {
   "cell_type": "code",
   "execution_count": 18,
   "id": "b383f9a4",
   "metadata": {},
   "outputs": [],
   "source": [
    "ans = []\n",
    "classes_stat = []\n",
    "for file in infer_files:\n",
    "    filename = infer_path+'/'+file\n",
    "    img = torch.tensor(plt.imread(filename), dtype=torch.float32)\n",
    "    img = img.transpose_(0,2).unsqueeze(0)\n",
    "\n",
    "    img = normalization(img)\n",
    "    with torch.no_grad():\n",
    "        class_idx = model(img.to(device)).argmax()\n",
    "    classes_stat.append(class_idx.item())\n",
    "    ans.append((file, labdat.classes[class_idx.item()]))"
   ]
  },
  {
   "cell_type": "code",
   "execution_count": 19,
   "id": "a9dd5131",
   "metadata": {},
   "outputs": [
    {
     "data": {
      "image/png": "[encoded data removed]",
      "text/plain": [
       "<Figure size 432x288 with 1 Axes>"
      ]
     },
     "metadata": {
      "needs_background": "light"
     },
     "output_type": "display_data"
    }
   ],
   "source": [
    "plt.hist(classes_stat, bins=10);"
   ]
  },
  {
   "cell_type": "code",
   "execution_count": 22,
   "id": "43eda739",
   "metadata": {},
   "outputs": [],
   "source": [
    "with open('./result_no-pretrain.csv', 'w') as f:\n",
    "    for file, classn in ans:\n",
    "        print(f'{file}, {classn}', file=f)"
   ]
  },
  {
   "cell_type": "code",
   "execution_count": 23,
   "id": "c0766a4d",
   "metadata": {},
   "outputs": [
    {
     "data": {
      "text/html": [
       "Waiting for W&B process to finish... <strong style=\"color:green\">(success).</strong>"
      ],
      "text/plain": [
       "<IPython.core.display.HTML object>"
      ]
     },
     "metadata": {},
     "output_type": "display_data"
    },
    {
     "data": {
      "text/html": [
       "<style>\n",
       "    table.wandb td:nth-child(1) { padding: 0 10px; text-align: left ; width: auto;} td:nth-child(2) {text-align: left ; width: 100%}\n",
       "    .wandb-row { display: flex; flex-direction: row; flex-wrap: wrap; justify-content: flex-start; width: 100% }\n",
       "    .wandb-col { display: flex; flex-direction: column; flex-basis: 100%; flex: 1; padding: 10px; }\n",
       "    </style>\n",
       "<div class=\"wandb-row\"><div class=\"wandb-col\"><h3>Run history:</h3><br/><table class=\"wandb\"><tr><td>final loss</td><td>█▇▇▇▇▇▆█▅▆▆▅▃▄▄▂▃▂▁▁▁▁▁▁▁▁▁▁▁▁▁▁▁▁▁▁▁▁▁▁</td></tr><tr><td>final lr</td><td>██▇▇▇▆▆▆▅▅▅▅▄▄▄▄▃▃▃▃▃▃▃▂▂▂▂▂▂▂▂▂▁▁▁▁▁▁▁▁</td></tr></table><br/></div><div class=\"wandb-col\"><h3>Run summary:</h3><br/><table class=\"wandb\"><tr><td>final loss</td><td>0.00178</td></tr><tr><td>final lr</td><td>0.00065</td></tr></table><br/></div></div>"
      ],
      "text/plain": [
       "<IPython.core.display.HTML object>"
      ]
     },
     "metadata": {},
     "output_type": "display_data"
    },
    {
     "data": {
      "text/html": [
       "Synced <strong style=\"color:#cdcd00\">no-pretrain:2</strong>: <a href=\"https://wandb.ai/vsevolodpl/Pretrain%20HW1/runs/15il1ls3\" target=\"_blank\">https://wandb.ai/vsevolodpl/Pretrain%20HW1/runs/15il1ls3</a><br/>Synced 5 W&B file(s), 0 media file(s), 0 artifact file(s) and 0 other file(s)"
      ],
      "text/plain": [
       "<IPython.core.display.HTML object>"
      ]
     },
     "metadata": {},
     "output_type": "display_data"
    },
    {
     "data": {
      "text/html": [
       "Find logs at: <code>.\\wandb\\run-20230131_130214-15il1ls3\\logs</code>"
      ],
      "text/plain": [
       "<IPython.core.display.HTML object>"
      ]
     },
     "metadata": {},
     "output_type": "display_data"
    }
   ],
   "source": [
    "wandb.finish()"
   ]
  }
 ],
 "metadata": {
  "kernelspec": {
   "display_name": "Python 3 (ipykernel)",
   "language": "python",
   "name": "python3"
  },
  "language_info": {
   "codemirror_mode": {
    "name": "ipython",
    "version": 3
   },
   "file_extension": ".py",
   "mimetype": "text/x-python",
   "name": "python",
   "nbconvert_exporter": "python",
   "pygments_lexer": "ipython3",
   "version": "3.9.5"
  }
 },
 "nbformat": 4,
 "nbformat_minor": 5
}
